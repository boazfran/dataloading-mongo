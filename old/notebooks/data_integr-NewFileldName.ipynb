{
 "cells": [
  {
   "cell_type": "code",
   "execution_count": 1,
   "metadata": {
    "collapsed": false
   },
   "outputs": [],
   "source": [
    "import pandas as pd\n",
    "import json\n",
    "import pymongo\n",
    "import os\n",
    "import tarfile\n",
    "import sys\n",
    "import re\n",
    "import numpy as np\n",
    "from os import listdir\n",
    "from os.path import isfile, join"
   ]
  },
  {
   "cell_type": "code",
   "execution_count": 2,
   "metadata": {
    "collapsed": false
   },
   "outputs": [],
   "source": [
    "def get_all_substrings(string):\n",
    "    if type(string) == float:\n",
    "        return\n",
    "    else:\n",
    "        length = len(string)\n",
    "        for i in range(length):\n",
    "            for j in range(i + 1, length + 1):\n",
    "                yield(string[i:j])\n",
    "def get_substring(string):\n",
    "    strlist=[]\n",
    "    for i in get_all_substrings(string):\n",
    "        if len(i)>3:\n",
    "            strlist.append(i)\n",
    "    return strlist\n",
    "\n",
    "def setGene(gene):\n",
    "    gene_string = re.split(',| ', gene)\n",
    "    gene_string = list(set(gene_string))\n",
    "    if len(gene_string) == 1 or 0:\n",
    "        return gene_string\n",
    "    else:\n",
    "        if '' in gene_string:\n",
    "            gene_string.remove('')\n",
    "        if 'or' in gene_string:\n",
    "            gene_string.remove('or')\n",
    "        if 'F' in gene_string:\n",
    "            gene_string.remove('F')\n",
    "        if 'P' in gene_string:\n",
    "            gene_string.remove('P')\n",
    "        if '[F]' in gene_string:\n",
    "            gene_string.remove('[F]')\n",
    "        if 'Homsap' in gene_string:\n",
    "            gene_string.remove('Homsap')\n",
    "        if '(see' in gene_string:\n",
    "            gene_string.remove('(see')\n",
    "        if 'comment)' in gene_string:\n",
    "            gene_string.remove('comment)')\n",
    "        return gene_string"
   ]
  },
  {
   "cell_type": "code",
   "execution_count": 3,
   "metadata": {
    "collapsed": true
   },
   "outputs": [],
   "source": [
    "mng_client = pymongo.MongoClient('localhost', 27017)\n",
    "# Replace mongo db name\n",
    "mng_db = mng_client['mydb']\n",
    "#  Replace mongo db collection name\n",
    "sd_collection_name = 'sampleDataNew' \n",
    "sample_db_cm = mng_db[sd_collection_name]\n",
    "# sq_collection_name = 'sequenceDataNew' \n",
    "sq_collection_name = 'sequence_data_newnames' \n",
    "sequence_db_cm = mng_db[sq_collection_name]"
   ]
  },
  {
   "cell_type": "code",
   "execution_count": 4,
   "metadata": {
    "collapsed": true
   },
   "outputs": [],
   "source": [
    "# filename = 'ERR220454.txz'\n",
    "# filename = 'ERR220455.txz'\n",
    "# filename = 'SRR030807_filtered_barcode13.txz'\n",
    "mypath = '/mnt/data/'\n",
    "onlyfiles = [f for f in listdir(mypath) if isfile(join(mypath, f))]\n"
   ]
  },
  {
   "cell_type": "code",
   "execution_count": 5,
   "metadata": {
    "collapsed": false,
    "scrolled": true
   },
   "outputs": [],
   "source": [
    "def loadData(mypath,filename):\n",
    "    tar = tarfile.open(mypath+filename)\n",
    "    tar.extractall()\n",
    "    tar.close()\n",
    "    Summary_1 = pd.read_table('1_Summary.txt')\n",
    "    IMGT_gapped_nt_sequences_2 = pd.read_table('2_IMGT-gapped-nt-sequences.txt')\n",
    "    Nt_sequences_3 = pd.read_table('3_Nt-sequences.txt')\n",
    "    IMGT_gapped_AA_sequences_4 = pd.read_table('4_IMGT-gapped-AA-sequences.txt')\n",
    "    AA_sequences_5 = pd.read_table('5_AA-sequences.txt')\n",
    "    V_REGION_mutation_and_AA_change_table_7 = pd.read_table('7_V-REGION-mutation-and-AA-change-table.txt')\n",
    "    Parameters_11 = pd.read_table('11_Parameters.txt',header =None)\n",
    "    Para_dict = dict(zip(Parameters_11[0], Parameters_11[1]))\n",
    "    Summary_column_list = Summary_1.columns.values.tolist()\n",
    "    if 'Functionality' in Summary_column_list:\n",
    "        df_1 = Summary_1[['Sequence ID','V-GENE and allele', 'J-GENE and allele', 'D-GENE and allele', 'Functionality', \n",
    "                          'V-REGION score', 'J-REGION score','V-REGION identity %', 'D-REGION reading frame',\n",
    "                          'CDR1-IMGT length', 'CDR2-IMGT length','CDR3-IMGT length', 'Functionality comment', \n",
    "                          'Orientation', 'V-REGION identity %']]\n",
    "        df_1.columns = ['seq_name','v_string', 'j_string', 'd_string', 'functional', 'v_score', 'j_score',\n",
    "                        'vgene_probablity',\n",
    "                        'dregion_reading_frame', 'cdr1_length', 'cdr2_length', 'cdr3_length',\n",
    "                        'functionality_comment',\n",
    "                        'rev_comp', 'vgene_probability']\n",
    "    elif 'V-DOMAIN Functionality' in Summary_column_list:\n",
    "        df_1 = Summary_1[['Sequence ID','V-GENE and allele', 'J-GENE and allele', 'D-GENE and allele', 'V-DOMAIN Functionality',\n",
    "                          'V-REGION score', 'J-REGION score','V-REGION identity %', 'D-REGION reading frame', \n",
    "                          'CDR1-IMGT length','CDR2-IMGT length', 'CDR3-IMGT length', 'V-DOMAIN Functionality comment', \n",
    "                          'Orientation','V-REGION identity %']]\n",
    "        df_1.columns = ['seq_name','v_string', 'j_string', 'd_string', 'functional', 'v_score', 'j_score',\n",
    "                        'vgene_probablity',\n",
    "                        'dregion_reading_frame', 'cdr1_length', 'cdr2_length', 'cdr3_length',\n",
    "                        'functionality_comment',\n",
    "                        'rev_comp', 'vgene_probability']\n",
    "    df_2 = IMGT_gapped_nt_sequences_2[['V-D-J-REGION','V-J-REGION','V-REGION','J-REGION','FR1-IMGT','FR2-IMGT','FR3-IMGT',\n",
    "                                       'FR4-IMGT','CDR1-IMGT','CDR2-IMGT','CDR3-IMGT','JUNCTION']]\n",
    "    df_2.columns = ['vdjregion_sequence_nt_gapped','vjregion_sequence_nt_gapped','vregion_sequence_nt_gapped',\n",
    "                    'jregion_sequence_nt_gapped','fr1region_sequence_nt_gapped','fr2region_sequence_nt_gapped',\n",
    "                    'fr3region_sequence_nt_gapped','fr4region_sequence_nt_gapped','cdr1region_sequence_nt_gapped',\n",
    "                    'cdr2region_sequence_nt_gapped','cdr3region_sequence_nt_gapped','junction_sequence_nt_gapped']\n",
    "    df_3 = Nt_sequences_3[['V-D-J-REGION','V-J-REGION','D-J-REGION','V-REGION','J-REGION','D-REGION','FR1-IMGT','FR2-IMGT',\n",
    "                           'FR3-IMGT','FR4-IMGT','CDR1-IMGT','CDR2-IMGT','CDR3-IMGT','JUNCTION','V-D-J-REGION start',\n",
    "                           'V-D-J-REGION end','V-J-REGION start','V-J-REGION end','V-REGION start','V-REGION end',\n",
    "                           'J-REGION start','J-REGION end','D-REGION start','D-REGION end','FR1-IMGT start','FR1-IMGT end',\n",
    "                           'FR2-IMGT start','FR2-IMGT end','FR3-IMGT start','FR3-IMGT end','FR4-IMGT start','FR4-IMGT end',\n",
    "                           'CDR1-IMGT start','CDR1-IMGT end','CDR2-IMGT start','CDR2-IMGT end','CDR3-IMGT start',\n",
    "                           'CDR3-IMGT end','JUNCTION start','JUNCTION end','D-J-REGION start','D-J-REGION end']]\n",
    "    df_3.columns = ['vdjregion_sequence_nt','vjregion_sequence_nt','djregion_sequence_nt','vregion_sequence_nt',\n",
    "                    'jregion_sequence_nt','dregion_sequence_nt','fr1region_sequence_nt','fr2region_sequence_nt',\n",
    "                    'fr3region_sequence_nt','fr4region_sequence_nt','cdr1region_sequence_nt','cdr2region_sequence_nt',\n",
    "                    'cdr3region_sequence_nt','junction_nt','vdjregion_start','vdjregion_end','vjregion_start',\n",
    "                    'vjregion_end','v_start','v_end','j_start','j_end','d_start',\n",
    "                    'd_end','fwr1_start','fwr1_end','fwr2_start','fwr2_end','fwr3_start',\n",
    "                    'fwr3_end','fwr4_start','fwr4_end','cdr1_start','cdr1_end',\n",
    "                    'cdr2_start','cdr2_end','cdr3_start','cdr3_end','junction_start',\n",
    "                    'junction_end','djregion_start','djregion_end']\n",
    "    df_4 = IMGT_gapped_AA_sequences_4[['V-D-J-REGION','V-J-REGION','V-REGION','J-REGION','FR1-IMGT','FR2-IMGT','FR3-IMGT',\n",
    "                                       'FR4-IMGT','CDR1-IMGT','CDR2-IMGT','CDR3-IMGT','JUNCTION']]\n",
    "    df_4.columns = ['vdjregion_sequence_aa_gapped','vjregion_sequence_aa_gapped','vregion_sequence_aa_gapped',\n",
    "                    'jregion_sequence_aa_gapped','fr1region_sequence_aa_gapped','fr2region_sequence_aa_gapped',\n",
    "                    'fr3region_sequence_aa_gapped','fr4region_sequence_aa_gapped','cdr1region_sequence_aa_gapped',\n",
    "                    'cdr2region_sequence_aa_gapped','cdr3region_sequence_aa_gapped','junction_sequence_aa_gapped']\n",
    "    df_5 = AA_sequences_5[['V-D-J-REGION','V-J-REGION','V-REGION','J-REGION','FR1-IMGT','FR2-IMGT','FR3-IMGT','FR4-IMGT',\n",
    "                           'CDR1-IMGT','CDR2-IMGT','CDR3-IMGT','JUNCTION']]\n",
    "    df_5.columns = ['vdjregion_sequence_aa','vjregion_sequence_aa','vregion_sequence_aa','jregion_sequence_aa',\n",
    "                    'fr1region_sequence_aa','fr2region_sequence_aa','fr3region_sequence_aa','fr4region_sequence_aa',\n",
    "                    'cdr1region_sequence_aa','cdr2region_sequence_aa','cdr3region_sequence_aa','junction_aa']\n",
    "    df_7 = V_REGION_mutation_and_AA_change_table_7[['V-REGION','FR1-IMGT','FR2-IMGT','FR3-IMGT','CDR1-IMGT','CDR2-IMGT',\n",
    "                                                    'CDR3-IMGT']]\n",
    "    df_7.columns = ['vregion_mutation_string','fr1region_mutation_string','fr2region_mutation_string',\n",
    "                    'fr3region_mutation_string','cdr1region_mutation_string','cdr2region_mutation_string',\n",
    "                    'cdr3region_mutation_string']\n",
    "    df_concat = pd.concat([df_1, df_2, df_3, df_4, df_5, df_7], axis=1)\n",
    "    df_concat['annotation_date'] = Para_dict['Date']\n",
    "    df_concat['tool_version'] = Para_dict['IMGT/V-QUEST programme version']\n",
    "    df_concat['reference_version'] = Para_dict['IMGT/V-QUEST reference directory release']\n",
    "    df_concat['species'] = Para_dict['Species']\n",
    "    df_concat['receptor_type'] = Para_dict['Receptor type or locus']\n",
    "    df_concat['reference_directory_set'] = Para_dict['IMGT/V-QUEST reference directory set']\n",
    "    df_concat['search_insert_delete'] = Para_dict['Search for insertions and deletions']\n",
    "    df_concat['no_nucleotide_to_add'] = Para_dict[\n",
    "        \"Nb of nucleotides to add (or exclude) in 3' of the V-REGION for the evaluation of the alignment score\"]\n",
    "    df_concat['no_nucleotide_to_exclude'] = Para_dict[\n",
    "        \"Nb of nucleotides to exclude in 5' of the V-REGION for the evaluation of the nb of mutations\"]\n",
    "    df_concat = df_concat.where((pd.notnull(df_concat)), \"\")\n",
    "    df_concat['cdr1_length'] = df_concat['cdr1region_sequence_aa'].apply(len)\n",
    "    df_concat['cdr2_length'] = df_concat['cdr2region_sequence_aa'].apply(len)\n",
    "    df_concat['cdr3_length'] = df_concat['cdr3region_sequence_aa'].apply(len)\n",
    "    sampleid = sample_db_cm.find({\"imgt_file_name\":{'$regex': filename}},{'_id':1})\n",
    "    ir_project_sample_id = [i['_id'] for i in sampleid][0]\n",
    "    df_concat['ir_project_sample_id']=ir_project_sample_id\n",
    "    df_concat['substring'] = df_concat['junction_aa'].apply(get_substring)\n",
    "#     df_concat['substring'] = df_concat['cdr3region_sequence_aa'].apply(get_substring)\n",
    "    df_concat['v_call'] = df_concat['v_string'].apply(str).apply(setGene)\n",
    "    df_concat['j_call'] = df_concat['j_string'].apply(str).apply(setGene)\n",
    "    df_concat['d_call'] = df_concat['d_string'].apply(str).apply(setGene)\n",
    "    df_concat['junction_length'] = df_concat['junction_nt'].apply(len)\n",
    "    df_concat['junction_length_aa'] = df_concat['junction_aa'].apply(len)\n",
    "    records = json.loads(df_concat.T.to_json()).values()\n",
    "    sequence_db_cm.insert(records)\n",
    "    ir_sequence_count = len(records)\n",
    "#     sample_db_cm.update_one({\"imgt_file_name\":{'$regex': filename}},{\"$set\" : {\"ir_sequence_count\":0}})\n",
    "    ori_count = sample_db_cm.find_one({\"imgt_file_name\":{'$regex': filename}},{\"ir_sequence_count\":1})[\"ir_sequence_count\"]\n",
    "    sample_db_cm.update({\"imgt_file_name\":{'$regex': filename}},{\"$set\" : {\"ir_sequence_count\":ir_sequence_count+ori_count}}, multi=True)\n",
    "#     sample_db_cm.update_one({\"imgt_file_name\":{'$regex': filename}},{\"$set\" : {\"ir_sequence_count\":ir_sequence_count+ori_count}})\n",
    "    return"
   ]
  },
  {
   "cell_type": "code",
   "execution_count": 6,
   "metadata": {
    "collapsed": false,
    "scrolled": true
   },
   "outputs": [
    {
     "name": "stdout",
     "output_type": "stream",
     "text": [
      "SRR030807_filtered_barcode13.txz\n"
     ]
    },
    {
     "name": "stderr",
     "output_type": "stream",
     "text": [
      "/home/ubuntu/anaconda3/lib/python3.5/site-packages/ipykernel/__main__.py:99: DeprecationWarning: insert is deprecated. Use insert_one or insert_many instead.\n",
      "/home/ubuntu/anaconda3/lib/python3.5/site-packages/ipykernel/__main__.py:103: DeprecationWarning: update is deprecated. Use replace_one, update_one or update_many instead.\n"
     ]
    },
    {
     "name": "stdout",
     "output_type": "stream",
     "text": [
      "ERR220454.txz\n",
      "ERR220455.txz\n"
     ]
    }
   ],
   "source": [
    "for filename in onlyfiles:\n",
    "    print (filename)\n",
    "    loadData(mypath,filename)"
   ]
  },
  {
   "cell_type": "code",
   "execution_count": 7,
   "metadata": {
    "collapsed": false
   },
   "outputs": [],
   "source": [
    "filelist = [ f for f in os.listdir(\".\") if f.endswith(\".txt\") ]\n",
    "for f in filelist:\n",
    "    os.remove(f)"
   ]
  },
  {
   "cell_type": "code",
   "execution_count": 8,
   "metadata": {
    "collapsed": false
   },
   "outputs": [],
   "source": [
    "# sequence_db_cm.create_index(\"functional\")"
   ]
  },
  {
   "cell_type": "code",
   "execution_count": null,
   "metadata": {
    "collapsed": true
   },
   "outputs": [],
   "source": []
  }
 ],
 "metadata": {
  "anaconda-cloud": {},
  "kernelspec": {
   "display_name": "Python [conda root]",
   "language": "python",
   "name": "conda-root-py"
  },
  "language_info": {
   "codemirror_mode": {
    "name": "ipython",
    "version": 3
   },
   "file_extension": ".py",
   "mimetype": "text/x-python",
   "name": "python",
   "nbconvert_exporter": "python",
   "pygments_lexer": "ipython3",
   "version": "3.5.2"
  }
 },
 "nbformat": 4,
 "nbformat_minor": 1
}
