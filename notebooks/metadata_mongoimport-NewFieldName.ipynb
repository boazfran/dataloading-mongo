{
 "cells": [
  {
   "cell_type": "code",
   "execution_count": 1,
   "metadata": {
    "collapsed": true
   },
   "outputs": [],
   "source": [
    "import pandas as pd\n",
    "import pymongo\n",
    "import json"
   ]
  },
  {
   "cell_type": "code",
   "execution_count": 2,
   "metadata": {},
   "outputs": [],
   "source": [
    "mng_client = pymongo.MongoClient('localhost', 27017)\n",
    "# Replace mongo db name\n",
    "mng_db = mng_client['mydb']\n",
    "#  Replace mongo db collection name\n",
    "collection_name = 'sampleDataNew' \n",
    "db_cm = mng_db[collection_name]"
   ]
  },
  {
   "cell_type": "code",
   "execution_count": 3,
   "metadata": {
    "collapsed": true
   },
   "outputs": [],
   "source": [
    "def insertDocument(doc, targetCollections):\n",
    "    cursor = db_cm.find( {}, { \"_id\": 1 } ).sort(\"_id\", -1).limit(1)\n",
    "    empty = False\n",
    "    try:\n",
    "        record = cursor.next()\n",
    "    except StopIteration:\n",
    "        print(\"Warning! NO PREVIOUS RECORD, THIS IS THE FIRST TIME INSERTING \")\n",
    "        empty = True\n",
    "    if empty:\n",
    "        seq = 1\n",
    "    else:\n",
    "        seq = record[\"_id\"]+1\n",
    "    doc[\"_id\"] = seq\n",
    "    results = targetCollections.insert(doc)"
   ]
  },
  {
   "cell_type": "code",
   "execution_count": 4,
   "metadata": {},
   "outputs": [
    {
     "name": "stderr",
     "output_type": "stream",
     "text": [
      "/home/ubuntu/anaconda3/lib/python3.5/site-packages/ipykernel/__main__.py:2: ParserWarning: Falling back to the 'python' engine because the 'c' engine does not support sep=None with delim_whitespace=False; you can avoid this warning by specifying engine='python'.\n",
      "  from ipykernel import kernelapp as app\n"
     ]
    }
   ],
   "source": [
    "filename = \"master_metadata_20171031.csv\"\n",
    "df = pd.read_csv(filename,sep=None)"
   ]
  },
  {
   "cell_type": "code",
   "execution_count": 5,
   "metadata": {},
   "outputs": [],
   "source": [
    "# there is an extra field with the same name library_source, if bojan delete that field, I need to change this code\n",
    "# df = df.drop('library_source.1', axis=1)"
   ]
  },
  {
   "cell_type": "code",
   "execution_count": 6,
   "metadata": {
    "collapsed": true
   },
   "outputs": [],
   "source": [
    "df = df.loc[:, ~df.columns.str.contains('^Unnamed')]"
   ]
  },
  {
   "cell_type": "code",
   "execution_count": 7,
   "metadata": {},
   "outputs": [],
   "source": [
    "df['ir_sequence_count'] = 0"
   ]
  },
  {
   "cell_type": "code",
   "execution_count": 8,
   "metadata": {},
   "outputs": [
    {
     "name": "stderr",
     "output_type": "stream",
     "text": [
      "/home/ubuntu/anaconda3/lib/python3.5/site-packages/ipykernel/__main__.py:14: DeprecationWarning: insert is deprecated. Use insert_one or insert_many instead.\n"
     ]
    },
    {
     "name": "stdout",
     "output_type": "stream",
     "text": [
      "Warning! NO PREVIOUS RECORD, THIS IS THE FIRST TIME INSERTING \n"
     ]
    }
   ],
   "source": [
    "records = json.loads(df.T.to_json()).values()\n",
    "record_list = list(records)\n",
    "# db_cm.insert(records)\n",
    "for r in record_list:\n",
    "    insertDocument(r,db_cm)"
   ]
  },
  {
   "cell_type": "code",
   "execution_count": null,
   "metadata": {
    "collapsed": true
   },
   "outputs": [],
   "source": []
  }
 ],
 "metadata": {
  "anaconda-cloud": {},
  "kernelspec": {
   "display_name": "Python 3",
   "language": "python",
   "name": "python3"
  },
  "language_info": {
   "codemirror_mode": {
    "name": "ipython",
    "version": 3
   },
   "file_extension": ".py",
   "mimetype": "text/x-python",
   "name": "python",
   "nbconvert_exporter": "python",
   "pygments_lexer": "ipython3",
   "version": "3.6.1"
  }
 },
 "nbformat": 4,
 "nbformat_minor": 1
}
