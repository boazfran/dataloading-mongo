{
 "cells": [
  {
   "cell_type": "code",
   "execution_count": 1,
   "metadata": {
    "collapsed": false
   },
   "outputs": [],
   "source": [
    "import pandas as pd\n",
    "import json\n",
    "import pymongo\n",
    "import os\n",
    "import tarfile\n",
    "import sys\n",
    "import re\n",
    "import numpy as np\n",
    "from os import listdir\n",
    "from os.path import isfile, join"
   ]
  },
  {
   "cell_type": "code",
   "execution_count": 2,
   "metadata": {
    "collapsed": true
   },
   "outputs": [],
   "source": [
    "def get_all_substrings(string):\n",
    "    if type(string) == float:\n",
    "        return\n",
    "    else:\n",
    "        length = len(string)\n",
    "        for i in range(length):\n",
    "            for j in range(i + 1, length + 1):\n",
    "                yield(string[i:j])\n",
    "def get_substring(string):\n",
    "    strlist=[]\n",
    "    for i in get_all_substrings(string):\n",
    "        if len(i)>3:\n",
    "            strlist.append(i)\n",
    "    return strlist"
   ]
  },
  {
   "cell_type": "code",
   "execution_count": 3,
   "metadata": {
    "collapsed": true
   },
   "outputs": [],
   "source": [
    "mng_client = pymongo.MongoClient('localhost', 27017)\n",
    "# Replace mongo db name\n",
    "mng_db = mng_client['mydb']\n",
    "#  Replace mongo db collection name\n",
    "sd_collection_name = 'sampleDataNew' \n",
    "sample_db_cm = mng_db[sd_collection_name]\n",
    "# sq_collection_name = 'sequenceDataNew' \n",
    "sq_collection_name = 'sequence_data_newnames' \n",
    "sequence_db_cm = mng_db[sq_collection_name]"
   ]
  },
  {
   "cell_type": "code",
   "execution_count": 4,
   "metadata": {
    "collapsed": true
   },
   "outputs": [],
   "source": [
    "mypath = '/mnt/mixcrData/'\n",
    "filename = 'SRR4084213_aa_mixcr_annotation.txt'\n",
    "# onlyfiles = [f for f in listdir(mypath) if isfile(join(mypath, f))]"
   ]
  },
  {
   "cell_type": "code",
   "execution_count": 5,
   "metadata": {
    "collapsed": false
   },
   "outputs": [],
   "source": [
    "# from sh import gunzip\n",
    "# gunzip(mypath+filename+'.gz')"
   ]
  },
  {
   "cell_type": "code",
   "execution_count": 6,
   "metadata": {
    "collapsed": false
   },
   "outputs": [],
   "source": [
    "df_raw = pd.read_table(mypath+filename)"
   ]
  },
  {
   "cell_type": "code",
   "execution_count": 7,
   "metadata": {
    "collapsed": true
   },
   "outputs": [],
   "source": [
    "df = df_raw[['bestVHit','bestDHit','bestJHit','bestVGene','bestDGene','bestJGene','bestVFamily','bestDFamily',\n",
    "           'bestJFamily','bestVHitScore','nSeqCDR3','aaSeqCDR3','descrR1']]\n",
    "df.columns = ['vgene', 'dgene', 'jgene', 'vgene_gene', 'dgene_gene', 'jgene_gene', 'vgene_family', 'dgene_family',\n",
    "               'jgene_family','v_score','junction','junction_aa', 'seqId']"
   ]
  },
  {
   "cell_type": "code",
   "execution_count": 8,
   "metadata": {
    "collapsed": false
   },
   "outputs": [
    {
     "name": "stderr",
     "output_type": "stream",
     "text": [
      "/home/ubuntu/anaconda3/lib/python3.5/site-packages/ipykernel/__main__.py:1: SettingWithCopyWarning: \n",
      "A value is trying to be set on a copy of a slice from a DataFrame.\n",
      "Try using .loc[row_indexer,col_indexer] = value instead\n",
      "\n",
      "See the caveats in the documentation: http://pandas.pydata.org/pandas-docs/stable/indexing.html#indexing-view-versus-copy\n",
      "  if __name__ == '__main__':\n",
      "/home/ubuntu/anaconda3/lib/python3.5/site-packages/ipykernel/__main__.py:2: SettingWithCopyWarning: \n",
      "A value is trying to be set on a copy of a slice from a DataFrame.\n",
      "Try using .loc[row_indexer,col_indexer] = value instead\n",
      "\n",
      "See the caveats in the documentation: http://pandas.pydata.org/pandas-docs/stable/indexing.html#indexing-view-versus-copy\n",
      "  from ipykernel import kernelapp as app\n",
      "/home/ubuntu/anaconda3/lib/python3.5/site-packages/ipykernel/__main__.py:3: SettingWithCopyWarning: \n",
      "A value is trying to be set on a copy of a slice from a DataFrame.\n",
      "Try using .loc[row_indexer,col_indexer] = value instead\n",
      "\n",
      "See the caveats in the documentation: http://pandas.pydata.org/pandas-docs/stable/indexing.html#indexing-view-versus-copy\n",
      "  app.launch_new_instance()\n",
      "/home/ubuntu/anaconda3/lib/python3.5/site-packages/ipykernel/__main__.py:4: SettingWithCopyWarning: \n",
      "A value is trying to be set on a copy of a slice from a DataFrame.\n",
      "Try using .loc[row_indexer,col_indexer] = value instead\n",
      "\n",
      "See the caveats in the documentation: http://pandas.pydata.org/pandas-docs/stable/indexing.html#indexing-view-versus-copy\n"
     ]
    }
   ],
   "source": [
    "df['substring'] = df['junction_aa'].apply(get_substring)\n",
    "df['junction_length'] = df['junction'].apply(str).apply(len)\n",
    "df['junction_length_aa'] = df['junction_aa'].apply(str).apply(len)\n",
    "df['functional'] = 'productive'\n",
    "df['annotation_tool'] = 'MiXCR'\n",
    "sampleid = sample_db_cm.find({\"mixcr_file_name\":{'$regex': filename}},{'_id':1})\n",
    "ir_project_sample_id = [i['_id'] for i in sampleid][0]\n",
    "df['ir_project_sample_id']=ir_project_sample_id"
   ]
  },
  {
   "cell_type": "code",
   "execution_count": 9,
   "metadata": {
    "collapsed": false
   },
   "outputs": [],
   "source": [
    "count_row = len(df.index)\n",
    "num_to_insert = 10000\n",
    "(runNumber,rest)= divmod(count_row,num_to_insert)\n",
    "for i in range(runNumber+1):\n",
    "    df_insert = df.iloc[10000*i:10000*(i+1)]\n",
    "    records = json.loads(df_insert.T.to_json()).values()\n",
    "    sequence_db_cm.insert_many(records)"
   ]
  },
  {
   "cell_type": "code",
   "execution_count": 10,
   "metadata": {
    "collapsed": false
   },
   "outputs": [
    {
     "name": "stderr",
     "output_type": "stream",
     "text": [
      "/home/ubuntu/anaconda3/lib/python3.5/site-packages/ipykernel/__main__.py:2: DeprecationWarning: update is deprecated. Use replace_one, update_one or update_many instead.\n",
      "  from ipykernel import kernelapp as app\n"
     ]
    },
    {
     "data": {
      "text/plain": [
       "{'n': 1, 'nModified': 1, 'ok': 1, 'updatedExisting': True}"
      ]
     },
     "execution_count": 10,
     "metadata": {},
     "output_type": "execute_result"
    }
   ],
   "source": [
    "ori_count = sample_db_cm.find_one({\"mixcr_file_name\":{'$regex': filename}},{\"ir_sequence_count\":1})[\"ir_sequence_count\"]\n",
    "sample_db_cm.update({\"mixcr_file_name\":{'$regex': filename}},{\"$set\" : {\"ir_sequence_count\":count_row+ori_count}}, multi=True)\n",
    "# sample_db_cm.update_one({\"mixcr_file_name\":{'$regex': filename}},{\"$set\" : {\"ir_sequence_count\":count_row}})"
   ]
  },
  {
   "cell_type": "code",
   "execution_count": 11,
   "metadata": {
    "collapsed": false
   },
   "outputs": [
    {
     "data": {
      "text/plain": [
       "'ir_project_sample_id_1'"
      ]
     },
     "execution_count": 11,
     "metadata": {},
     "output_type": "execute_result"
    }
   ],
   "source": [
    "sequence_db_cm.create_index(\"ir_project_sample_id\")"
   ]
  },
  {
   "cell_type": "code",
   "execution_count": 12,
   "metadata": {
    "collapsed": false
   },
   "outputs": [
    {
     "data": {
      "text/plain": [
       "'functional_1'"
      ]
     },
     "execution_count": 12,
     "metadata": {},
     "output_type": "execute_result"
    }
   ],
   "source": [
    "sequence_db_cm.create_index(\"functional\")"
   ]
  },
  {
   "cell_type": "code",
   "execution_count": null,
   "metadata": {
    "collapsed": true
   },
   "outputs": [],
   "source": []
  }
 ],
 "metadata": {
  "anaconda-cloud": {},
  "kernelspec": {
   "display_name": "Python [conda root]",
   "language": "python",
   "name": "conda-root-py"
  },
  "language_info": {
   "codemirror_mode": {
    "name": "ipython",
    "version": 3
   },
   "file_extension": ".py",
   "mimetype": "text/x-python",
   "name": "python",
   "nbconvert_exporter": "python",
   "pygments_lexer": "ipython3",
   "version": "3.5.2"
  }
 },
 "nbformat": 4,
 "nbformat_minor": 1
}
